{
  "nbformat": 4,
  "nbformat_minor": 0,
  "metadata": {
    "colab": {
      "name": "END2_0_Session_1.ipynb",
      "provenance": [],
      "collapsed_sections": []
    },
    "kernelspec": {
      "name": "python3",
      "display_name": "Python 3"
    },
    "language_info": {
      "name": "python"
    }
  },
  "cells": [
    {
      "cell_type": "code",
      "metadata": {
        "colab": {
          "base_uri": "https://localhost:8080/"
        },
        "id": "GC_6PeobwwkH",
        "outputId": "bbca10e9-2b68-4f57-aceb-f32f6ce90c5d"
      },
      "source": [
        "import torch\n",
        "from torch.autograd import Variable\n",
        "import torch.nn as nn\n",
        "import torch.nn.functional as F\n",
        "import torch.optim as optim\n",
        "import numpy as np\n",
        "import matplotlib.pyplot as plt\n",
        "%matplotlib inline\n",
        "torch.manual_seed(2)"
      ],
      "execution_count": 54,
      "outputs": [
        {
          "output_type": "execute_result",
          "data": {
            "text/plain": [
              "<torch._C.Generator at 0x7f4a25b586d0>"
            ]
          },
          "metadata": {},
          "execution_count": 54
        }
      ]
    },
    {
      "cell_type": "code",
      "metadata": {
        "id": "bL64bMTkw2GP"
      },
      "source": [
        "X = torch.Tensor([[0,0], [0,1], [1,0], [1,1]])\n",
        "Y = torch.Tensor([0, 1, 1, 0]).view(-1,1)"
      ],
      "execution_count": 55,
      "outputs": []
    },
    {
      "cell_type": "code",
      "metadata": {
        "id": "aC82kEAIw3Wf"
      },
      "source": [
        "class XOR(nn.Module):\n",
        "    def __init__(self, input_dim = 2, output_dim=1):\n",
        "        super(XOR, self).__init__()\n",
        "        self.lin1 = nn.Linear(input_dim, 11, bias=True)\n",
        "        self.lin2 = nn.Linear(11, output_dim, bias=False)\n",
        "    \n",
        "    def forward(self, x):\n",
        "        x = self.lin1(x)\n",
        "        x = F.tanh(x)\n",
        "        x = self.lin2(x)\n",
        "        return x"
      ],
      "execution_count": 56,
      "outputs": []
    },
    {
      "cell_type": "code",
      "metadata": {
        "colab": {
          "base_uri": "https://localhost:8080/"
        },
        "id": "8gQIQExYw65K",
        "outputId": "9cc8378d-edb6-42c1-d8b8-7c132c02bc24"
      },
      "source": [
        "model = XOR()\n",
        "print(model)\n",
        "from torchsummary import summary\n",
        "summary(model, (2,2))"
      ],
      "execution_count": 57,
      "outputs": [
        {
          "output_type": "stream",
          "name": "stdout",
          "text": [
            "XOR(\n",
            "  (lin1): Linear(in_features=2, out_features=11, bias=True)\n",
            "  (lin2): Linear(in_features=11, out_features=1, bias=False)\n",
            ")\n",
            "----------------------------------------------------------------\n",
            "        Layer (type)               Output Shape         Param #\n",
            "================================================================\n",
            "            Linear-1                [-1, 2, 11]              33\n",
            "            Linear-2                 [-1, 2, 1]              11\n",
            "================================================================\n",
            "Total params: 44\n",
            "Trainable params: 44\n",
            "Non-trainable params: 0\n",
            "----------------------------------------------------------------\n",
            "Input size (MB): 0.00\n",
            "Forward/backward pass size (MB): 0.00\n",
            "Params size (MB): 0.00\n",
            "Estimated Total Size (MB): 0.00\n",
            "----------------------------------------------------------------\n"
          ]
        },
        {
          "output_type": "stream",
          "name": "stderr",
          "text": [
            "/usr/local/lib/python3.7/dist-packages/torch/nn/functional.py:1794: UserWarning: nn.functional.tanh is deprecated. Use torch.tanh instead.\n",
            "  warnings.warn(\"nn.functional.tanh is deprecated. Use torch.tanh instead.\")\n"
          ]
        }
      ]
    },
    {
      "cell_type": "code",
      "metadata": {
        "id": "yeotEq19x6XF"
      },
      "source": [
        "def weights_init(model):\n",
        "    for m in model.modules():\n",
        "        if isinstance(m, nn.Linear):\n",
        "            # initialize the weight tensor, here we use a normal distribution\n",
        "            m.weight.data.normal_(0, 1)\n",
        "\n",
        "weights_init(model)"
      ],
      "execution_count": 58,
      "outputs": []
    },
    {
      "cell_type": "code",
      "metadata": {
        "id": "WrD_sNzLx78e"
      },
      "source": [
        "loss_func = nn.L1Loss()"
      ],
      "execution_count": 59,
      "outputs": []
    },
    {
      "cell_type": "code",
      "metadata": {
        "id": "-zvbrMd2x_lA"
      },
      "source": [
        "optimizer = optim.SGD(model.parameters(), lr=0.02, momentum=0.9)\n"
      ],
      "execution_count": 60,
      "outputs": []
    },
    {
      "cell_type": "code",
      "metadata": {
        "colab": {
          "base_uri": "https://localhost:8080/"
        },
        "id": "q7tWa3D7yA5X",
        "outputId": "a2211487-1a31-43e5-ebfe-8fd26b51b5d0"
      },
      "source": [
        "epochs = 2001\n",
        "steps = X.size(0)\n",
        "for i in range(epochs):\n",
        "    for j in range(steps):\n",
        "        data_point = np.random.randint(X.size(0))\n",
        "        x_var = Variable(X[data_point], requires_grad=False)\n",
        "        y_var = Variable(Y[data_point], requires_grad=False)\n",
        "        \n",
        "        optimizer.zero_grad()\n",
        "        y_hat = model(x_var)\n",
        "        loss = loss_func.forward(y_hat, y_var)\n",
        "        loss.backward()\n",
        "        optimizer.step()\n",
        "        \n",
        "    if i % 50 == 0:\n",
        "        print( \"Epoch: {0}, Loss: {1}, \".format(i, loss.data.numpy()))"
      ],
      "execution_count": 61,
      "outputs": [
        {
          "output_type": "stream",
          "name": "stderr",
          "text": [
            "/usr/local/lib/python3.7/dist-packages/torch/nn/functional.py:1794: UserWarning: nn.functional.tanh is deprecated. Use torch.tanh instead.\n",
            "  warnings.warn(\"nn.functional.tanh is deprecated. Use torch.tanh instead.\")\n"
          ]
        },
        {
          "output_type": "stream",
          "name": "stdout",
          "text": [
            "Epoch: 0, Loss: 0.19190537929534912, \n",
            "Epoch: 50, Loss: 0.4101531505584717, \n",
            "Epoch: 100, Loss: 0.4067346155643463, \n",
            "Epoch: 150, Loss: 0.15172189474105835, \n",
            "Epoch: 200, Loss: 0.14538943767547607, \n",
            "Epoch: 250, Loss: 0.1757582724094391, \n",
            "Epoch: 300, Loss: 0.03579068183898926, \n",
            "Epoch: 350, Loss: 0.001456916332244873, \n",
            "Epoch: 400, Loss: 0.14646267890930176, \n",
            "Epoch: 450, Loss: 0.646579921245575, \n",
            "Epoch: 500, Loss: 0.12380421161651611, \n",
            "Epoch: 550, Loss: 0.25612831115722656, \n",
            "Epoch: 600, Loss: 0.03246718645095825, \n",
            "Epoch: 650, Loss: 0.3987480401992798, \n",
            "Epoch: 700, Loss: 0.15484952926635742, \n",
            "Epoch: 750, Loss: 0.35189294815063477, \n",
            "Epoch: 800, Loss: 0.11928677558898926, \n",
            "Epoch: 850, Loss: 0.10269379615783691, \n",
            "Epoch: 900, Loss: 0.550362229347229, \n",
            "Epoch: 950, Loss: 0.0207250714302063, \n",
            "Epoch: 1000, Loss: 0.32697945833206177, \n",
            "Epoch: 1050, Loss: 0.04511106014251709, \n",
            "Epoch: 1100, Loss: 0.068439781665802, \n",
            "Epoch: 1150, Loss: 0.21966513991355896, \n",
            "Epoch: 1200, Loss: 0.20511597394943237, \n",
            "Epoch: 1250, Loss: 0.1507120132446289, \n",
            "Epoch: 1300, Loss: 0.22850725054740906, \n",
            "Epoch: 1350, Loss: 0.07272839546203613, \n",
            "Epoch: 1400, Loss: 0.02469581365585327, \n",
            "Epoch: 1450, Loss: 0.5623712539672852, \n",
            "Epoch: 1500, Loss: 0.36177265644073486, \n",
            "Epoch: 1550, Loss: 0.35683995485305786, \n",
            "Epoch: 1600, Loss: 0.003484368324279785, \n",
            "Epoch: 1650, Loss: 0.04913812875747681, \n",
            "Epoch: 1700, Loss: 0.09164026379585266, \n",
            "Epoch: 1750, Loss: 0.5077352523803711, \n",
            "Epoch: 1800, Loss: 0.7104935050010681, \n",
            "Epoch: 1850, Loss: 0.11208057403564453, \n",
            "Epoch: 1900, Loss: 0.1838829517364502, \n",
            "Epoch: 1950, Loss: 0.026377975940704346, \n",
            "Epoch: 2000, Loss: 0.02358722686767578, \n"
          ]
        }
      ]
    }
  ]
}